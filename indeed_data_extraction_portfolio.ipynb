{
 "cells": [
  {
   "cell_type": "markdown",
   "metadata": {},
   "source": [
    "# Data Extraction - [indeed.com](https://za.indeed.com/jobs?q=python&l=Johannesburg,%20Gauteng&start=0)"
   ]
  },
  {
   "cell_type": "markdown",
   "metadata": {},
   "source": [
    "Hi there, my name is Duane Muller, and this notebook is a demonstration of what I can do  \n",
    "in data extraction using Python.  \n",
    "This example is from https://za.indeed.com  \n",
    "\n",
    "In this demo I am extracting a list of jobs that are posted on this site,  \n",
    "according to what and where.\n",
    "\n",
    "I am extracting the following:  \n",
    "- Job title\n",
    "- Job url\n",
    "- Company name\n",
    "- Job location\n",
    "- Job summary\n",
    "- Posted date\n",
    "- Extracted date\n",
    "\n",
    "If this is this is a project that you would like me to help you with,   \n",
    "then send me an invite on Upwork and we can discuss this matter further. "
   ]
  },
  {
   "cell_type": "markdown",
   "metadata": {},
   "source": [
    "## Required modules"
   ]
  },
  {
   "cell_type": "code",
   "execution_count": null,
   "metadata": {},
   "outputs": [],
   "source": [
    "import csv\n",
    "from datetime import datetime\n",
    "import requests\n",
    "from bs4 import BeautifulSoup\n"
   ]
  },
  {
   "cell_type": "markdown",
   "metadata": {},
   "source": [
    "## Extract Raw html"
   ]
  },
  {
   "cell_type": "code",
   "execution_count": null,
   "metadata": {},
   "outputs": [],
   "source": [
    "template = 'https://za.indeed.com/jobs?q={}&l={}'\n",
    "\n",
    "def get_url(what, where):\n",
    "    '''Generate a url from the \"What\" and \"Where\"'''\n",
    "    template = 'https://za.indeed.com/jobs?q={}&l={}'\n",
    "    url = template.format(what, where)\n",
    "    return url\n",
    "\n",
    "url = get_url('Python', 'Johannesburg Gauteng')\n",
    "\n",
    "response = requests.get(url).text\n",
    "\n",
    "soup = BeautifulSoup(response, 'html.parser')\n",
    "cards = soup.find_all('div', 'cardOutline')"
   ]
  },
  {
   "cell_type": "markdown",
   "metadata": {},
   "source": [
    "## Prototype of a single record"
   ]
  },
  {
   "cell_type": "code",
   "execution_count": null,
   "metadata": {},
   "outputs": [],
   "source": [
    "card = cards[0]\n",
    "title_tag = card.h2.a.span\n",
    "job_title = title_tag.get('title')\n",
    "atag = card.h2.a\n",
    "job_url = 'https://za.indeed.com'+ atag.get('href')\n",
    "company_name = card.find('span','companyName').text\n",
    "job_location = card.find('div', 'companyLocation').text\n",
    "job_summary = card.find('div', 'job-snippet').text.replace('\\n','')\n",
    "post_date = card.find('span', 'date').text.replace('EmployerActive','Active').replace('Posted','Posted ')\n",
    "today = datetime.today().strftime('%Y-%m-%d')\n",
    "try:\n",
    "    job_salary = card.find('div', class_=\"metadata salary-snippet-container\").text.strip().replace('\\xa0', '')\n",
    "except AttributeError:\n",
    "    job_salary = ''"
   ]
  },
  {
   "cell_type": "markdown",
   "metadata": {},
   "source": [
    "## Function that returns a record object"
   ]
  },
  {
   "cell_type": "code",
   "execution_count": null,
   "metadata": {},
   "outputs": [],
   "source": [
    "def get_record(card):\n",
    "    '''Extract job data from a single card'''\n",
    "    title_tag = card.h2.a.span\n",
    "    job_title = title_tag.get('title')\n",
    "    #atag = card.h2.a\n",
    "    job_url = 'https://za.indeed.com'+ atag.get('href')\n",
    "    company_name = card.find('span','companyName').text\n",
    "    job_location = card.find('div', 'companyLocation').text\n",
    "    job_summary = card.find('div', 'job-snippet').text.replace('\\n','')\n",
    "    post_date = card.find('span', 'date').text.replace('EmployerActive','Active').replace('Posted','Posted ')\n",
    "    today = datetime.today().strftime('%Y-%m-%d')\n",
    "    try:\n",
    "        job_salary = card.find('div', class_=\"metadata salary-snippet-container\").text.strip().replace('\\xa0', '')\n",
    "    except AttributeError:\n",
    "        job_salary = ''\n",
    "    record = (job_title,company_name,job_location,post_date,today,job_summary,job_salary,job_url)\n",
    "    return record\n",
    "records = []\n",
    "\n",
    "for card in cards:\n",
    "    record = get_record(card)\n",
    "    records.append(record)\n",
    "\n",
    "records[0]  "
   ]
  },
  {
   "cell_type": "markdown",
   "metadata": {},
   "source": [
    "## Main function to extract all records"
   ]
  },
  {
   "cell_type": "code",
   "execution_count": 3,
   "metadata": {},
   "outputs": [],
   "source": [
    "def main(what,where):  \n",
    "    records = []\n",
    "    url = get_url(what,where)\n",
    "    while True:\n",
    "        \n",
    "        response = requests.get(url).text\n",
    "        soup = BeautifulSoup(response, 'html.parser')\n",
    "        cards = soup.find_all('div', 'cardOutline')\n",
    "\n",
    "        for card in cards:\n",
    "            record = get_record(card)\n",
    "            records.append(record)\n",
    "        try:\n",
    "            url = 'https://za.indeed.com'+soup.find('a', {'aria-label':'Next'}).get('href')\n",
    "        except AttributeError:\n",
    "            break\n",
    "        with open('results.csv','w',newline='',encoding='utf-8')as f:\n",
    "            writer = csv.writer(f)\n",
    "            writer.writerow(['JobTitle','Company','Location','PostDate','ExtractDate','Summary','Salary','JobUrl'])\n",
    "            writer.writerows(records)\n",
    "\n",
    "main('Python', 'Johannesburg Gauteng')"
   ]
  }
 ],
 "metadata": {
  "kernelspec": {
   "display_name": "Python 3",
   "language": "python",
   "name": "python3"
  },
  "language_info": {
   "codemirror_mode": {
    "name": "ipython",
    "version": 3
   },
   "file_extension": ".py",
   "mimetype": "text/x-python",
   "name": "python",
   "nbconvert_exporter": "python",
   "pygments_lexer": "ipython3",
   "version": "3.7.1"
  }
 },
 "nbformat": 4,
 "nbformat_minor": 2
}
